{
 "cells": [
  {
   "cell_type": "code",
   "execution_count": 1,
   "metadata": {},
   "outputs": [
    {
     "ename": "ModuleNotFoundError",
     "evalue": "No module named 'modin'",
     "output_type": "error",
     "traceback": [
      "\u001b[0;31m---------------------------------------------------------------------------\u001b[0m",
      "\u001b[0;31mModuleNotFoundError\u001b[0m                       Traceback (most recent call last)",
      "\u001b[1;32m/home/wslforwin/ASFdata_analysis/casestudy/inspection_bysize.ipynb Cell 1'\u001b[0m in \u001b[0;36m<cell line: 2>\u001b[0;34m()\u001b[0m\n\u001b[1;32m      <a href='vscode-notebook-cell://wsl%2Bubuntu/home/wslforwin/ASFdata_analysis/casestudy/inspection_bysize.ipynb#ch0000000vscode-remote?line=0'>1</a>\u001b[0m \u001b[39mimport\u001b[39;00m \u001b[39mnumpy\u001b[39;00m \u001b[39mas\u001b[39;00m \u001b[39mnp\u001b[39;00m\n\u001b[0;32m----> <a href='vscode-notebook-cell://wsl%2Bubuntu/home/wslforwin/ASFdata_analysis/casestudy/inspection_bysize.ipynb#ch0000000vscode-remote?line=1'>2</a>\u001b[0m \u001b[39mimport\u001b[39;00m \u001b[39mmodin\u001b[39;00m\u001b[39m.\u001b[39;00m\u001b[39mpandas\u001b[39;00m \u001b[39mas\u001b[39;00m \u001b[39mmipd\u001b[39;00m\n\u001b[1;32m      <a href='vscode-notebook-cell://wsl%2Bubuntu/home/wslforwin/ASFdata_analysis/casestudy/inspection_bysize.ipynb#ch0000000vscode-remote?line=2'>3</a>\u001b[0m \u001b[39mimport\u001b[39;00m \u001b[39mos\u001b[39;00m\n\u001b[1;32m      <a href='vscode-notebook-cell://wsl%2Bubuntu/home/wslforwin/ASFdata_analysis/casestudy/inspection_bysize.ipynb#ch0000000vscode-remote?line=3'>4</a>\u001b[0m \u001b[39mimport\u001b[39;00m \u001b[39mtime\u001b[39;00m\n",
      "\u001b[0;31mModuleNotFoundError\u001b[0m: No module named 'modin'"
     ]
    }
   ],
   "source": [
    "import numpy as np\n",
    "import modin.pandas as mipd\n",
    "import os\n",
    "import time\n",
    "import pandas as pd\n",
    "from tqdm import tqdm\n",
    "import networkx as nx\n",
    "from networkx.algorithms import bipartite\n",
    "import matplotlib.pyplot as plt\n",
    "import numpy as np\n",
    "import gc\n",
    "import seaborn as sns\n",
    "\n",
    "from matplotlib import pyplot as plt\n",
    "from scipy.signal import savgol_filter"
   ]
  },
  {
   "cell_type": "code",
   "execution_count": 2,
   "metadata": {},
   "outputs": [
    {
     "ename": "FileNotFoundError",
     "evalue": "[Errno 2] No such file or directory: '../network_data_smoothed26/commits/'",
     "output_type": "error",
     "traceback": [
      "\u001b[0;31m---------------------------------------------------------------------------\u001b[0m",
      "\u001b[0;31mFileNotFoundError\u001b[0m                         Traceback (most recent call last)",
      "\u001b[1;32m/home/wslforwin/ASFdata_analysis/casestudy/inspection_bysize.ipynb Cell 2'\u001b[0m in \u001b[0;36m<cell line: 9>\u001b[0;34m()\u001b[0m\n\u001b[1;32m      <a href='vscode-notebook-cell://wsl%2Bubuntu/home/wslforwin/ASFdata_analysis/casestudy/inspection_bysize.ipynb#ch0000001vscode-remote?line=5'>6</a>\u001b[0m e_path \u001b[39m=\u001b[39m \u001b[39m'\u001b[39m\u001b[39m../network_data_smoothed\u001b[39m\u001b[39m'\u001b[39m\u001b[39m+\u001b[39m\u001b[39mstr\u001b[39m(time_resolution\u001b[39m+\u001b[39mtime_window)\u001b[39m+\u001b[39m\u001b[39m'\u001b[39m\u001b[39m/emails/\u001b[39m\u001b[39m'\u001b[39m\n\u001b[1;32m      <a href='vscode-notebook-cell://wsl%2Bubuntu/home/wslforwin/ASFdata_analysis/casestudy/inspection_bysize.ipynb#ch0000001vscode-remote?line=6'>7</a>\u001b[0m \u001b[39m#c_path = './network_data/commits/'\u001b[39;00m\n\u001b[0;32m----> <a href='vscode-notebook-cell://wsl%2Bubuntu/home/wslforwin/ASFdata_analysis/casestudy/inspection_bysize.ipynb#ch0000001vscode-remote?line=8'>9</a>\u001b[0m projects \u001b[39m=\u001b[39m os\u001b[39m.\u001b[39;49mlistdir(c_path)\n\u001b[1;32m     <a href='vscode-notebook-cell://wsl%2Bubuntu/home/wslforwin/ASFdata_analysis/casestudy/inspection_bysize.ipynb#ch0000001vscode-remote?line=9'>10</a>\u001b[0m project_names \u001b[39m=\u001b[39m [x\u001b[39m.\u001b[39msplit(\u001b[39m'\u001b[39m\u001b[39m__\u001b[39m\u001b[39m'\u001b[39m)[\u001b[39m0\u001b[39m] \u001b[39mfor\u001b[39;00m x \u001b[39min\u001b[39;00m projects]\n\u001b[1;32m     <a href='vscode-notebook-cell://wsl%2Bubuntu/home/wslforwin/ASFdata_analysis/casestudy/inspection_bysize.ipynb#ch0000001vscode-remote?line=10'>11</a>\u001b[0m project_freqs \u001b[39m=\u001b[39m pd\u001b[39m.\u001b[39mSeries(project_names)\n",
      "\u001b[0;31mFileNotFoundError\u001b[0m: [Errno 2] No such file or directory: '../network_data_smoothed26/commits/'"
     ]
    }
   ],
   "source": [
    "### Faster\n",
    "time_resolution = 21\n",
    "time_window = 5\n",
    "\n",
    "c_path = '../network_data_smoothed'+str(time_resolution+time_window)+'/commits/'\n",
    "e_path = '../network_data_smoothed'+str(time_resolution+time_window)+'/emails/'\n",
    "#c_path = './network_data/commits/'\n",
    "\n",
    "projects = os.listdir(c_path)\n",
    "project_names = [x.split('__')[0] for x in projects]\n",
    "project_freqs = pd.Series(project_names)\n",
    "\n",
    "project_names = pd.Series(project_names).drop_duplicates().values\n",
    "project_freqs.describe()"
   ]
  },
  {
   "cell_type": "code",
   "execution_count": null,
   "metadata": {},
   "outputs": [],
   "source": []
  }
 ],
 "metadata": {
  "kernelspec": {
   "display_name": "Python 3.8.11 64-bit ('3.8.11': pyenv)",
   "language": "python",
   "name": "python3"
  },
  "language_info": {
   "codemirror_mode": {
    "name": "ipython",
    "version": 3
   },
   "file_extension": ".py",
   "mimetype": "text/x-python",
   "name": "python",
   "nbconvert_exporter": "python",
   "pygments_lexer": "ipython3",
   "version": "3.8.11"
  },
  "orig_nbformat": 4,
  "vscode": {
   "interpreter": {
    "hash": "c9701ccef575a3c30e2cac74f6dd4cc715c78aab3d2175dab51d7715a3dd1380"
   }
  }
 },
 "nbformat": 4,
 "nbformat_minor": 2
}

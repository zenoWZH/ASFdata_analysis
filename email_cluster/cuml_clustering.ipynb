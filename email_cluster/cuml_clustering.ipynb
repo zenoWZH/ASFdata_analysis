{
 "cells": [
  {
   "cell_type": "code",
   "execution_count": 5,
   "metadata": {},
   "outputs": [],
   "source": [
    "import os\n",
    "import numpy as np\n",
    "import pandas as pd \n",
    "#import modin.pandas as pd\n",
    "from tqdm import tqdm\n",
    "import re\n",
    "import datetime\n",
    "from functools import partial\n",
    "import gc"
   ]
  },
  {
   "cell_type": "code",
   "execution_count": 3,
   "metadata": {},
   "outputs": [
    {
     "name": "stdout",
     "output_type": "stream",
     "text": [
      "Label prop iterations: 6\n",
      "Label prop iterations: 4\n",
      "Label prop iterations: 2\n",
      "Iterations: 3\n",
      "2349,108,67,20,198,487\n"
     ]
    }
   ],
   "source": [
    "from sklearn import datasets\n",
    "from cuml.cluster import HDBSCAN\n",
    "\n",
    "X, y = datasets.make_moons(n_samples=50, noise=0.05)\n",
    "\n",
    "model = HDBSCAN(min_samples=5, gen_min_span_tree=True)\n",
    "y_hat = model.fit_predict(X)"
   ]
  },
  {
   "cell_type": "code",
   "execution_count": 4,
   "metadata": {},
   "outputs": [],
   "source": [
    "from cuml.manifold import UMAP\n",
    "from cuml.preprocessing import normalize\n",
    "from cuml.cluster import HDBSCAN"
   ]
  },
  {
   "cell_type": "code",
   "execution_count": 3,
   "metadata": {},
   "outputs": [],
   "source": [
    "from cuml.ensemble import RandomForestClassifier"
   ]
  },
  {
   "cell_type": "code",
   "execution_count": 7,
   "metadata": {},
   "outputs": [],
   "source": [
    "df_vector_subjects = pd.DataFrame(np.load(\"vector30_subjects.npy\"))\n",
    "\n",
    "from cuml.cluster import DBSCAN\n",
    "\n",
    "X = df_vector_subjects[df_vector_subjects.columns]\n",
    "\n",
    "db = DBSCAN(eps=5, min_samples=20).fit(X)\n",
    "\n",
    "labels = db.labels_\n",
    "#df_all_commiters[\"subject_labels\"] = labels\n",
    "\n",
    "from sklearn import metrics \n",
    "\n",
    "score = metrics.silhouette_score(X, labels) \n",
    "print(score)\n",
    "\n",
    "np.save(\"subjectlabels.npy\", labels)\n",
    "gc.collect()"
   ]
  },
  {
   "cell_type": "code",
   "execution_count": null,
   "metadata": {},
   "outputs": [],
   "source": []
  }
 ],
 "metadata": {
  "interpreter": {
   "hash": "6f499666e2f226c398f01ca4a5875f9d70d0700a575253c16a73680da4998efe"
  },
  "kernelspec": {
   "display_name": "Python 3.8.13 ('rapids-22.04')",
   "language": "python",
   "name": "python3"
  },
  "language_info": {
   "codemirror_mode": {
    "name": "ipython",
    "version": 3
   },
   "file_extension": ".py",
   "mimetype": "text/x-python",
   "name": "python",
   "nbconvert_exporter": "python",
   "pygments_lexer": "ipython3",
   "version": "3.8.13"
  },
  "orig_nbformat": 4
 },
 "nbformat": 4,
 "nbformat_minor": 2
}

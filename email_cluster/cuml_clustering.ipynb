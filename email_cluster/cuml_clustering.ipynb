{
 "cells": [
  {
   "cell_type": "code",
   "execution_count": 1,
   "metadata": {},
   "outputs": [],
   "source": [
    "import os\n",
    "import numpy as np\n",
    "import pandas as pd \n",
    "#import modin.pandas as pd\n",
    "from tqdm import tqdm\n",
    "import re\n",
    "import datetime\n",
    "from functools import partial\n",
    "import gc\n",
    "\n",
    "\n",
    "from cuml.cluster import HDBSCAN\n",
    "from cuml.metrics.cluster.silhouette_score import cython_silhouette_score"
   ]
  },
  {
   "cell_type": "code",
   "execution_count": null,
   "metadata": {},
   "outputs": [],
   "source": [
    "df_vector_bodies = pd.DataFrame(np.load(\"vector200_bodies.npy\"))\n",
    "\n",
    "from cuml.cluster import HDBSCAN\n",
    "#from cuml.metrics import pairwise_distances # GPU Mem Allocation Error\n",
    "\n",
    "X = df_vector_bodies[df_vector_bodies.columns]\n",
    "\n",
    "labels = HDBSCAN(min_samples=5).fit_predict(X)\n",
    "print(labels.shape)\n",
    "\n"
   ]
  },
  {
   "cell_type": "code",
   "execution_count": 15,
   "metadata": {},
   "outputs": [
    {
     "data": {
      "text/plain": [
       "(1121263, 768)"
      ]
     },
     "execution_count": 15,
     "metadata": {},
     "output_type": "execute_result"
    }
   ],
   "source": [
    "X.values.shape"
   ]
  },
  {
   "cell_type": "code",
   "execution_count": 14,
   "metadata": {},
   "outputs": [
    {
     "data": {
      "text/plain": [
       "1121263"
      ]
     },
     "execution_count": 14,
     "metadata": {},
     "output_type": "execute_result"
    }
   ],
   "source": [
    "labels.shape[0]"
   ]
  },
  {
   "cell_type": "code",
   "execution_count": 3,
   "metadata": {},
   "outputs": [
    {
     "ename": "CUDADriverError",
     "evalue": "CUDA_ERROR_INVALID_VALUE: invalid argument",
     "output_type": "error",
     "traceback": [
      "\u001b[0;31m---------------------------------------------------------------------------\u001b[0m",
      "\u001b[0;31mCUDADriverError\u001b[0m                           Traceback (most recent call last)",
      "\u001b[1;32m/mnt/data0/proj_osgeo/ASFdata_analysis/email_cluster/cuml_clustering.ipynb Cell 5'\u001b[0m in \u001b[0;36m<cell line: 6>\u001b[0;34m()\u001b[0m\n\u001b[1;32m      <a href='vscode-notebook-cell://ssh-remote%2Bdeepblue.cs.ucdavis.edu/mnt/data0/proj_osgeo/ASFdata_analysis/email_cluster/cuml_clustering.ipynb#ch0000009vscode-remote?line=3'>4</a>\u001b[0m labels \u001b[39m=\u001b[39m np\u001b[39m.\u001b[39mload(\u001b[39m\"\u001b[39m\u001b[39msubjectHDBSCAN.npy\u001b[39m\u001b[39m\"\u001b[39m)\n\u001b[1;32m      <a href='vscode-notebook-cell://ssh-remote%2Bdeepblue.cs.ucdavis.edu/mnt/data0/proj_osgeo/ASFdata_analysis/email_cluster/cuml_clustering.ipynb#ch0000009vscode-remote?line=4'>5</a>\u001b[0m \u001b[39m#labels = labels[:, np.newaxis]\u001b[39;00m\n\u001b[0;32m----> <a href='vscode-notebook-cell://ssh-remote%2Bdeepblue.cs.ucdavis.edu/mnt/data0/proj_osgeo/ASFdata_analysis/email_cluster/cuml_clustering.ipynb#ch0000009vscode-remote?line=5'>6</a>\u001b[0m score \u001b[39m=\u001b[39m cython_silhouette_score(X, labels, metric\u001b[39m=\u001b[39;49m\u001b[39m\"\u001b[39;49m\u001b[39meuclidean\u001b[39;49m\u001b[39m\"\u001b[39;49m, chunksize\u001b[39m=\u001b[39;49m \u001b[39m40000\u001b[39;49m)\n\u001b[1;32m      <a href='vscode-notebook-cell://ssh-remote%2Bdeepblue.cs.ucdavis.edu/mnt/data0/proj_osgeo/ASFdata_analysis/email_cluster/cuml_clustering.ipynb#ch0000009vscode-remote?line=6'>7</a>\u001b[0m \u001b[39mprint\u001b[39m(score)\n\u001b[1;32m      <a href='vscode-notebook-cell://ssh-remote%2Bdeepblue.cs.ucdavis.edu/mnt/data0/proj_osgeo/ASFdata_analysis/email_cluster/cuml_clustering.ipynb#ch0000009vscode-remote?line=8'>9</a>\u001b[0m np\u001b[39m.\u001b[39msave(\u001b[39m\"\u001b[39m\u001b[39msubjectHDBSCAN.npy\u001b[39m\u001b[39m\"\u001b[39m, labels)\n",
      "File \u001b[0;32mcuml/metrics/cluster/silhouette_score.pyx:192\u001b[0m, in \u001b[0;36mcuml.metrics.cluster.silhouette_score.cython_silhouette_score\u001b[0;34m()\u001b[0m\n",
      "File \u001b[0;32mcuml/metrics/cluster/silhouette_score.pyx:109\u001b[0m, in \u001b[0;36mcuml.metrics.cluster.silhouette_score._silhouette_coeff\u001b[0;34m()\u001b[0m\n",
      "File \u001b[0;32m~/anaconda3/envs/rapids-22.04/lib/python3.8/site-packages/cuml/internals/api_decorators.py:360\u001b[0m, in \u001b[0;36mReturnAnyDecorator.__call__.<locals>.inner\u001b[0;34m(*args, **kwargs)\u001b[0m\n\u001b[1;32m    <a href='file:///home/orzwang/anaconda3/envs/rapids-22.04/lib/python3.8/site-packages/cuml/internals/api_decorators.py?line=356'>357</a>\u001b[0m \u001b[39m@wraps\u001b[39m(func)\n\u001b[1;32m    <a href='file:///home/orzwang/anaconda3/envs/rapids-22.04/lib/python3.8/site-packages/cuml/internals/api_decorators.py?line=357'>358</a>\u001b[0m \u001b[39mdef\u001b[39;00m \u001b[39minner\u001b[39m(\u001b[39m*\u001b[39margs, \u001b[39m*\u001b[39m\u001b[39m*\u001b[39mkwargs):\n\u001b[1;32m    <a href='file:///home/orzwang/anaconda3/envs/rapids-22.04/lib/python3.8/site-packages/cuml/internals/api_decorators.py?line=358'>359</a>\u001b[0m     \u001b[39mwith\u001b[39;00m \u001b[39mself\u001b[39m\u001b[39m.\u001b[39m_recreate_cm(func, args):\n\u001b[0;32m--> <a href='file:///home/orzwang/anaconda3/envs/rapids-22.04/lib/python3.8/site-packages/cuml/internals/api_decorators.py?line=359'>360</a>\u001b[0m         \u001b[39mreturn\u001b[39;00m func(\u001b[39m*\u001b[39;49margs, \u001b[39m*\u001b[39;49m\u001b[39m*\u001b[39;49mkwargs)\n",
      "File \u001b[0;32m~/anaconda3/envs/rapids-22.04/lib/python3.8/site-packages/cuml/prims/label/classlabels.py:199\u001b[0m, in \u001b[0;36mcheck_labels\u001b[0;34m(labels, classes)\u001b[0m\n\u001b[1;32m    <a href='file:///home/orzwang/anaconda3/envs/rapids-22.04/lib/python3.8/site-packages/cuml/prims/label/classlabels.py?line=196'>197</a>\u001b[0m smem \u001b[39m=\u001b[39m labels\u001b[39m.\u001b[39mdtype\u001b[39m.\u001b[39mitemsize \u001b[39m*\u001b[39m \u001b[39mint\u001b[39m(classes\u001b[39m.\u001b[39mshape[\u001b[39m0\u001b[39m])\n\u001b[1;32m    <a href='file:///home/orzwang/anaconda3/envs/rapids-22.04/lib/python3.8/site-packages/cuml/prims/label/classlabels.py?line=197'>198</a>\u001b[0m validate \u001b[39m=\u001b[39m _validate_kernel(labels\u001b[39m.\u001b[39mdtype)\n\u001b[0;32m--> <a href='file:///home/orzwang/anaconda3/envs/rapids-22.04/lib/python3.8/site-packages/cuml/prims/label/classlabels.py?line=198'>199</a>\u001b[0m validate((math\u001b[39m.\u001b[39;49mceil(labels\u001b[39m.\u001b[39;49mshape[\u001b[39m0\u001b[39;49m] \u001b[39m/\u001b[39;49m \u001b[39m32\u001b[39;49m),), (\u001b[39m32\u001b[39;49m, ),\n\u001b[1;32m    <a href='file:///home/orzwang/anaconda3/envs/rapids-22.04/lib/python3.8/site-packages/cuml/prims/label/classlabels.py?line=199'>200</a>\u001b[0m          (labels, labels\u001b[39m.\u001b[39;49mshape[\u001b[39m0\u001b[39;49m], classes,\n\u001b[1;32m    <a href='file:///home/orzwang/anaconda3/envs/rapids-22.04/lib/python3.8/site-packages/cuml/prims/label/classlabels.py?line=200'>201</a>\u001b[0m          classes\u001b[39m.\u001b[39;49mshape[\u001b[39m0\u001b[39;49m], valid),\n\u001b[1;32m    <a href='file:///home/orzwang/anaconda3/envs/rapids-22.04/lib/python3.8/site-packages/cuml/prims/label/classlabels.py?line=201'>202</a>\u001b[0m          shared_mem\u001b[39m=\u001b[39;49msmem)\n\u001b[1;32m    <a href='file:///home/orzwang/anaconda3/envs/rapids-22.04/lib/python3.8/site-packages/cuml/prims/label/classlabels.py?line=203'>204</a>\u001b[0m \u001b[39mreturn\u001b[39;00m valid[\u001b[39m0\u001b[39m] \u001b[39m==\u001b[39m \u001b[39m1\u001b[39m\n",
      "File \u001b[0;32mcupy/_core/raw.pyx:89\u001b[0m, in \u001b[0;36mcupy._core.raw.RawKernel.__call__\u001b[0;34m()\u001b[0m\n",
      "File \u001b[0;32mcupy/cuda/function.pyx:201\u001b[0m, in \u001b[0;36mcupy.cuda.function.Function.__call__\u001b[0;34m()\u001b[0m\n",
      "File \u001b[0;32mcupy/cuda/function.pyx:183\u001b[0m, in \u001b[0;36mcupy.cuda.function._launch\u001b[0;34m()\u001b[0m\n",
      "File \u001b[0;32mcupy_backends/cuda/api/driver.pyx:306\u001b[0m, in \u001b[0;36mcupy_backends.cuda.api.driver.launchKernel\u001b[0;34m()\u001b[0m\n",
      "File \u001b[0;32mcupy_backends/cuda/api/driver.pyx:125\u001b[0m, in \u001b[0;36mcupy_backends.cuda.api.driver.check_status\u001b[0;34m()\u001b[0m\n",
      "\u001b[0;31mCUDADriverError\u001b[0m: CUDA_ERROR_INVALID_VALUE: invalid argument"
     ]
    }
   ],
   "source": [
    "from cuml.metrics.cluster.silhouette_score import cython_silhouette_score\n",
    "#from sklearn import metrics \n",
    "X = np.load(\"vector200_bodies.npy\")\n",
    "labels = np.load(\"subjectHDBSCAN.npy\")\n",
    "#labels = labels[:, np.newaxis]\n",
    "score = cython_silhouette_score(X, labels, metric=\"euclidean\", chunksize= 40000)\n",
    "print(score)\n",
    "\n",
    "np.save(\"subjectHDBSCAN.npy\", labels)\n",
    "gc.collect()"
   ]
  },
  {
   "cell_type": "code",
   "execution_count": 6,
   "metadata": {},
   "outputs": [],
   "source": [
    "df_all_commiters = pd.read_csv(\"./commiters_emails.csv\")"
   ]
  },
  {
   "cell_type": "code",
   "execution_count": 7,
   "metadata": {},
   "outputs": [],
   "source": [
    "labels = np.load(\"subjectHDBSCAN.npy\")"
   ]
  },
  {
   "cell_type": "code",
   "execution_count": 12,
   "metadata": {},
   "outputs": [
    {
     "data": {
      "text/plain": [
       "array([   -1,     0,     1, ..., 35729, 35730, 35731], dtype=int32)"
      ]
     },
     "execution_count": 12,
     "metadata": {},
     "output_type": "execute_result"
    }
   ],
   "source": [
    "np.unique(labels)"
   ]
  },
  {
   "cell_type": "code",
   "execution_count": 8,
   "metadata": {},
   "outputs": [],
   "source": [
    "df_all_commiters[\"subjectlabel\"] = pd.Series(labels)"
   ]
  },
  {
   "cell_type": "code",
   "execution_count": 9,
   "metadata": {},
   "outputs": [
    {
     "data": {
      "text/html": [
       "<div>\n",
       "<style scoped>\n",
       "    .dataframe tbody tr th:only-of-type {\n",
       "        vertical-align: middle;\n",
       "    }\n",
       "\n",
       "    .dataframe tbody tr th {\n",
       "        vertical-align: top;\n",
       "    }\n",
       "\n",
       "    .dataframe thead th {\n",
       "        text-align: right;\n",
       "    }\n",
       "</style>\n",
       "<table border=\"1\" class=\"dataframe\">\n",
       "  <thead>\n",
       "    <tr style=\"text-align: right;\">\n",
       "      <th></th>\n",
       "      <th>message_id</th>\n",
       "      <th>references</th>\n",
       "      <th>project_name</th>\n",
       "      <th>list_name</th>\n",
       "      <th>date</th>\n",
       "      <th>dealised_author_full_name</th>\n",
       "      <th>subject</th>\n",
       "      <th>body</th>\n",
       "      <th>subjectlabel</th>\n",
       "    </tr>\n",
       "  </thead>\n",
       "  <tbody>\n",
       "    <tr>\n",
       "      <th>0</th>\n",
       "      <td>&lt;CA+FBdFQ7jRT+mr9Q-Ew=5k8Kc7zbeT3aMn5PoYLbTt9L...</td>\n",
       "      <td>&lt;CAJjAHoMFvhT+xv21hh6r_Myxzk2vpRAhLLB_-K2eA8we...</td>\n",
       "      <td>superset</td>\n",
       "      <td>dev</td>\n",
       "      <td>2017-06-05 10:12:28</td>\n",
       "      <td>Ashutosh Chauhan</td>\n",
       "      <td>check -- -</td>\n",
       "      <td>yes list fri jun jim jagielski jim com write g...</td>\n",
       "      <td>-1</td>\n",
       "    </tr>\n",
       "    <tr>\n",
       "      <th>1</th>\n",
       "      <td>&lt;CA+FBdFRTx6k6EMebeb4jh_62Z4-LuU0a=tKAabBb2shv...</td>\n",
       "      <td>&lt;CAHEEp7WxZztTjyZ0Tz+oPeHAPHPoPBZb71hoL4njtfg7...</td>\n",
       "      <td>superset</td>\n",
       "      <td>dev</td>\n",
       "      <td>2017-09-26 09:47:56</td>\n",
       "      <td>Ashutosh Chauhan</td>\n",
       "      <td>react apache superset</td>\n",
       "      <td>indeed great news ashutosh mon sep pm maxime b...</td>\n",
       "      <td>-1</td>\n",
       "    </tr>\n",
       "    <tr>\n",
       "      <th>2</th>\n",
       "      <td>&lt;JIRA.13130300.1515699055000.127061.1517866140...</td>\n",
       "      <td>&lt;JIRA.13130300.1515699055000@Atlassian.JIRA&gt; &lt;...</td>\n",
       "      <td>superset</td>\n",
       "      <td>dev</td>\n",
       "      <td>2018-02-05 21:29:00</td>\n",
       "      <td>Ashutosh Chauhan</td>\n",
       "      <td>jira commented superset- send password creatio...</td>\n",
       "      <td>page com atlassian jira plugin system issuetab...</td>\n",
       "      <td>-1</td>\n",
       "    </tr>\n",
       "    <tr>\n",
       "      <th>3</th>\n",
       "      <td>&lt;BANLkTi=gMnmH146_FTiQH3ahQnnpeUp_8A@mail.gmai...</td>\n",
       "      <td>&lt;BANLkTi=oq_QEwnwfwmcbrL8p9DdnCwObUw@mail.gmai...</td>\n",
       "      <td>flume</td>\n",
       "      <td>dev</td>\n",
       "      <td>2011-06-23 17:57:03</td>\n",
       "      <td>Aaron Kimball</td>\n",
       "      <td>plan moving mailing list apache</td>\n",
       "      <td>thu jun pm jonathan hsieh jon com write arg se...</td>\n",
       "      <td>-1</td>\n",
       "    </tr>\n",
       "    <tr>\n",
       "      <th>4</th>\n",
       "      <td>&lt;CAGfeOkdx-oTBnpeFhmmeTUZeSc_mofzO25jz20eVKOL+...</td>\n",
       "      <td>&lt;CACAoQH2JT4uoOZGRe5dS=tUyQtG=VzFDqNcoEpvPb5RJ...</td>\n",
       "      <td>cordova</td>\n",
       "      <td>dev</td>\n",
       "      <td>2012-01-06 11:59:06</td>\n",
       "      <td>Dan Silivestru</td>\n",
       "      <td>doe anyone actually like jira email sent -dev ...</td>\n",
       "      <td>well fri jan gtanner com write get rid jira em...</td>\n",
       "      <td>-1</td>\n",
       "    </tr>\n",
       "  </tbody>\n",
       "</table>\n",
       "</div>"
      ],
      "text/plain": [
       "                                          message_id  \\\n",
       "0  <CA+FBdFQ7jRT+mr9Q-Ew=5k8Kc7zbeT3aMn5PoYLbTt9L...   \n",
       "1  <CA+FBdFRTx6k6EMebeb4jh_62Z4-LuU0a=tKAabBb2shv...   \n",
       "2  <JIRA.13130300.1515699055000.127061.1517866140...   \n",
       "3  <BANLkTi=gMnmH146_FTiQH3ahQnnpeUp_8A@mail.gmai...   \n",
       "4  <CAGfeOkdx-oTBnpeFhmmeTUZeSc_mofzO25jz20eVKOL+...   \n",
       "\n",
       "                                          references project_name list_name  \\\n",
       "0  <CAJjAHoMFvhT+xv21hh6r_Myxzk2vpRAhLLB_-K2eA8we...     superset       dev   \n",
       "1  <CAHEEp7WxZztTjyZ0Tz+oPeHAPHPoPBZb71hoL4njtfg7...     superset       dev   \n",
       "2  <JIRA.13130300.1515699055000@Atlassian.JIRA> <...     superset       dev   \n",
       "3  <BANLkTi=oq_QEwnwfwmcbrL8p9DdnCwObUw@mail.gmai...        flume       dev   \n",
       "4  <CACAoQH2JT4uoOZGRe5dS=tUyQtG=VzFDqNcoEpvPb5RJ...      cordova       dev   \n",
       "\n",
       "                  date dealised_author_full_name  \\\n",
       "0  2017-06-05 10:12:28          Ashutosh Chauhan   \n",
       "1  2017-09-26 09:47:56          Ashutosh Chauhan   \n",
       "2  2018-02-05 21:29:00          Ashutosh Chauhan   \n",
       "3  2011-06-23 17:57:03             Aaron Kimball   \n",
       "4  2012-01-06 11:59:06            Dan Silivestru   \n",
       "\n",
       "                                             subject  \\\n",
       "0                                         check -- -   \n",
       "1                              react apache superset   \n",
       "2  jira commented superset- send password creatio...   \n",
       "3                    plan moving mailing list apache   \n",
       "4  doe anyone actually like jira email sent -dev ...   \n",
       "\n",
       "                                                body  subjectlabel  \n",
       "0  yes list fri jun jim jagielski jim com write g...            -1  \n",
       "1  indeed great news ashutosh mon sep pm maxime b...            -1  \n",
       "2  page com atlassian jira plugin system issuetab...            -1  \n",
       "3  thu jun pm jonathan hsieh jon com write arg se...            -1  \n",
       "4  well fri jan gtanner com write get rid jira em...            -1  "
      ]
     },
     "execution_count": 9,
     "metadata": {},
     "output_type": "execute_result"
    }
   ],
   "source": [
    "df_all_commiters.head()"
   ]
  },
  {
   "cell_type": "code",
   "execution_count": 10,
   "metadata": {},
   "outputs": [
    {
     "data": {
      "text/plain": [
       "count    1.121263e+06\n",
       "mean     8.231926e+03\n",
       "std      1.244473e+04\n",
       "min     -1.000000e+00\n",
       "25%     -1.000000e+00\n",
       "50%     -1.000000e+00\n",
       "75%      1.594200e+04\n",
       "max      3.573100e+04\n",
       "Name: subjectlabel, dtype: float64"
      ]
     },
     "execution_count": 10,
     "metadata": {},
     "output_type": "execute_result"
    }
   ],
   "source": [
    "df_all_commiters[\"subjectlabel\"].describe()"
   ]
  },
  {
   "cell_type": "code",
   "execution_count": 11,
   "metadata": {},
   "outputs": [
    {
     "data": {
      "text/plain": [
       "35733"
      ]
     },
     "execution_count": 11,
     "metadata": {},
     "output_type": "execute_result"
    }
   ],
   "source": [
    "len(df_all_commiters[\"subjectlabel\"].unique())"
   ]
  },
  {
   "cell_type": "code",
   "execution_count": null,
   "metadata": {},
   "outputs": [],
   "source": []
  }
 ],
 "metadata": {
  "interpreter": {
   "hash": "6f499666e2f226c398f01ca4a5875f9d70d0700a575253c16a73680da4998efe"
  },
  "kernelspec": {
   "display_name": "Python 3.8.13 ('rapids-22.04')",
   "language": "python",
   "name": "python3"
  },
  "language_info": {
   "codemirror_mode": {
    "name": "ipython",
    "version": 3
   },
   "file_extension": ".py",
   "mimetype": "text/x-python",
   "name": "python",
   "nbconvert_exporter": "python",
   "pygments_lexer": "ipython3",
   "version": "3.8.13"
  },
  "orig_nbformat": 4
 },
 "nbformat": 4,
 "nbformat_minor": 2
}

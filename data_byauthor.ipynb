{
 "cells": [
  {
   "cell_type": "code",
   "execution_count": 1,
   "metadata": {},
   "outputs": [],
   "source": [
    "import os\n",
    "import pandas as pd \n",
    "#import modin.pandas as pd\n",
    "from tqdm import tqdm\n",
    "import datetime\n",
    "from p_tqdm import p_map\n",
    "from functools import partial\n",
    "import gc"
   ]
  },
  {
   "cell_type": "code",
   "execution_count": 2,
   "metadata": {},
   "outputs": [],
   "source": [
    "time_resolution = '1'\n",
    "lk_path = '/mnt/data0/lkyin/'\n",
    "c_path = './network_data'+str(time_resolution)+'/commits/'\n",
    "e_path = './network_data'+str(time_resolution)+'/emails/'\n",
    "mix_path = './network_data'+str(time_resolution)+'/mix/'"
   ]
  },
  {
   "cell_type": "markdown",
   "metadata": {},
   "source": [
    "## Processing commits data"
   ]
  },
  {
   "cell_type": "code",
   "execution_count": 3,
   "metadata": {},
   "outputs": [
    {
     "ename": "NameError",
     "evalue": "name 'df_data' is not defined",
     "output_type": "error",
     "traceback": [
      "\u001b[0;31m---------------------------------------------------------------------------\u001b[0m",
      "\u001b[0;31mNameError\u001b[0m                                 Traceback (most recent call last)",
      "\u001b[0;32m/tmp/ipykernel_2705/2692989829.py\u001b[0m in \u001b[0;36m<module>\u001b[0;34m\u001b[0m\n\u001b[0;32m----> 1\u001b[0;31m \u001b[0mdf_data\u001b[0m \u001b[0;34m=\u001b[0m \u001b[0mdf_data\u001b[0m\u001b[0;34m.\u001b[0m\u001b[0mloc\u001b[0m\u001b[0;34m[\u001b[0m\u001b[0mdf_data\u001b[0m\u001b[0;34m.\u001b[0m\u001b[0mdate\u001b[0m\u001b[0;34m.\u001b[0m\u001b[0mstr\u001b[0m\u001b[0;34m.\u001b[0m\u001b[0mlen\u001b[0m\u001b[0;34m(\u001b[0m\u001b[0;34m)\u001b[0m\u001b[0;34m==\u001b[0m\u001b[0;36m19\u001b[0m\u001b[0;34m]\u001b[0m\u001b[0;34m\u001b[0m\u001b[0;34m\u001b[0m\u001b[0m\n\u001b[0m\u001b[1;32m      2\u001b[0m \u001b[0mlen\u001b[0m\u001b[0;34m(\u001b[0m\u001b[0mdf_data\u001b[0m\u001b[0;34m)\u001b[0m\u001b[0;34m\u001b[0m\u001b[0;34m\u001b[0m\u001b[0m\n",
      "\u001b[0;31mNameError\u001b[0m: name 'df_data' is not defined"
     ]
    }
   ],
   "source": [
    "df_data = df_data.loc[df_data.date.str.len()==19]\n",
    "len(df_data)"
   ]
  },
  {
   "cell_type": "code",
   "execution_count": null,
   "metadata": {},
   "outputs": [],
   "source": [
    "df_data['datetime'] = df_data['date'].apply(lambda x: pd.Period(x))"
   ]
  },
  {
   "cell_type": "code",
   "execution_count": null,
   "metadata": {},
   "outputs": [
    {
     "data": {
      "text/plain": [
       "<bound method Series.describe of 0          2009-01-12 17:11:30\n",
       "1          2009-01-12 17:11:30\n",
       "2          2009-01-12 17:11:30\n",
       "3          2009-01-12 17:11:30\n",
       "4          2009-01-12 17:11:30\n",
       "                  ...         \n",
       "4312472    2013-01-25 12:55:09\n",
       "4312473    2013-01-25 12:55:10\n",
       "4312474    2013-01-25 12:55:10\n",
       "4312475    2013-01-25 12:55:10\n",
       "4312476    2013-01-25 12:55:10\n",
       "Name: datetime, Length: 4312196, dtype: period[S]>"
      ]
     },
     "execution_count": 10,
     "metadata": {},
     "output_type": "execute_result"
    }
   ],
   "source": [
    "df_data['datetime'].describe"
   ]
  },
  {
   "cell_type": "code",
   "execution_count": null,
   "metadata": {},
   "outputs": [],
   "source": [
    "df_data['year'] = df_data['datetime'].apply(lambda x: x.year)"
   ]
  },
  {
   "cell_type": "code",
   "execution_count": null,
   "metadata": {},
   "outputs": [],
   "source": [
    "df_data['dayofyear'] = df_data['datetime'].apply(lambda x: x.dayofyear)"
   ]
  },
  {
   "cell_type": "code",
   "execution_count": null,
   "metadata": {},
   "outputs": [],
   "source": [
    "df_data['weekofyear'] = df_data['datetime'].apply(lambda x: x.weekofyear)"
   ]
  },
  {
   "cell_type": "code",
   "execution_count": null,
   "metadata": {},
   "outputs": [],
   "source": [
    "df_data['week'] = df_data['datetime'].apply(lambda x: pd.Period(x, freq='W'))"
   ]
  },
  {
   "cell_type": "code",
   "execution_count": null,
   "metadata": {},
   "outputs": [
    {
     "data": {
      "text/plain": [
       "count                   4312196\n",
       "unique                      834\n",
       "top       2011-05-30/2011-06-05\n",
       "freq                      69047\n",
       "Name: week, dtype: object"
      ]
     },
     "execution_count": 17,
     "metadata": {},
     "output_type": "execute_result"
    }
   ],
   "source": [
    "df_data['week'].describe()"
   ]
  },
  {
   "cell_type": "code",
   "execution_count": null,
   "metadata": {},
   "outputs": [
    {
     "data": {
      "text/plain": [
       "107"
      ]
     },
     "execution_count": 14,
     "metadata": {},
     "output_type": "execute_result"
    }
   ],
   "source": [
    "len(weekly_df_dict.keys())"
   ]
  },
  {
   "cell_type": "code",
   "execution_count": 4,
   "metadata": {},
   "outputs": [
    {
     "name": "stdout",
     "output_type": "stream",
     "text": [
      "reading commits...\n"
     ]
    },
    {
     "name": "stderr",
     "output_type": "stream",
     "text": [
      "/home/orzwang/.pyenv/versions/3.8.10/lib/python3.8/site-packages/IPython/core/interactiveshell.py:3444: DtypeWarning: Columns (8,11) have mixed types.Specify dtype option on import or set low_memory=False.\n",
      "  exec(code_obj, self.user_global_ns, self.user_ns)\n"
     ]
    },
    {
     "name": "stdout",
     "output_type": "stream",
     "text": [
      "grouping by project...\n",
      "grouping by period...\n"
     ]
    },
    {
     "name": "stderr",
     "output_type": "stream",
     "text": [
      "100%|██████████| 263/263 [01:17<00:00,  3.40it/s]"
     ]
    },
    {
     "name": "stdout",
     "output_type": "stream",
     "text": [
      "Commits Done.\n"
     ]
    },
    {
     "name": "stderr",
     "output_type": "stream",
     "text": [
      "\n"
     ]
    }
   ],
   "source": [
    "# ------------------- processing commits ---------------------- \n",
    "print('reading commits...')\n",
    "df = pd.read_csv(lk_path+'commits_final.csv')\n",
    "print('grouping by author...')\n",
    "df = dict(tuple(df.groupby(df['project_name'])))\n",
    "to_path = './monthly_data/commits/'\n",
    "if not os.path.exists(to_path):\n",
    "\tos.makedirs(to_path)\n",
    "\n",
    "print('grouping by period...')\n",
    "for project in tqdm(df):\n",
    "\tmonthly_df_dict = dict(tuple(df[project].groupby(df[project]['month'])))\n",
    "\tmonthint = 0\n",
    "\tfor month in monthly_df_dict:\n",
    "\t\tmonthly_df = monthly_df_dict[month]\n",
    "\t\tmonthly_df = monthly_df[monthly_df['dealised_author_full_name'].notna()]\n",
    "\t\tmonthint+=1\n",
    "\t\tif monthly_df.empty: continue\n",
    "\t\tfile_path = to_path + '{}__{}.csv'.format(project, str(monthint))\n",
    "\t\tmonthly_df.to_csv(file_path, index=False)\n",
    "print('Commits Done.')\n",
    "\n",
    "\n"
   ]
  },
  {
   "cell_type": "code",
   "execution_count": 5,
   "metadata": {},
   "outputs": [
    {
     "name": "stdout",
     "output_type": "stream",
     "text": [
      "reading emails...\n"
     ]
    },
    {
     "name": "stderr",
     "output_type": "stream",
     "text": [
      "/home/orzwang/.pyenv/versions/3.8.10/lib/python3.8/site-packages/IPython/core/interactiveshell.py:3444: DtypeWarning: Columns (6,8,9,12,13) have mixed types.Specify dtype option on import or set low_memory=False.\n",
      "  exec(code_obj, self.user_global_ns, self.user_ns)\n"
     ]
    },
    {
     "name": "stdout",
     "output_type": "stream",
     "text": [
      "grouping by project...\n",
      "grouping by period...\n"
     ]
    },
    {
     "name": "stderr",
     "output_type": "stream",
     "text": [
      "100%|██████████| 274/274 [01:47<00:00,  2.55it/s]"
     ]
    },
    {
     "name": "stdout",
     "output_type": "stream",
     "text": [
      "Emails Done.\n"
     ]
    },
    {
     "name": "stderr",
     "output_type": "stream",
     "text": [
      "\n"
     ]
    }
   ],
   "source": [
    "# ------------------- processing emails ---------------------- \n",
    "print('reading emails...')\n",
    "df = pd.read_csv(lk_path+'emails_final.csv')\n",
    "print('grouping by project...')\n",
    "df = dict(tuple(df.groupby(df['project_name'])))\n",
    "to_path = './monthly_data/emails/'\n",
    "if not os.path.exists(to_path):\n",
    "\tos.makedirs(to_path)\n",
    "\n",
    "print('grouping by period...')\n",
    "for project in tqdm(df):\n",
    "\tmonthly_df_dict = dict(tuple(df[project].groupby(df[project]['month'])))\n",
    "\tmonthint = 0\n",
    "\tfor month in monthly_df_dict:\n",
    "\t\tmonthly_df = monthly_df_dict[month]\n",
    "\t\tmonthly_df = monthly_df[monthly_df['dealised_author_full_name'].notna()]\n",
    "\t\tmonthint+=1\n",
    "\t\tif monthly_df.empty: continue\n",
    "\t\tfile_path = to_path + '{}__{}.csv'.format(project, str(monthint))\n",
    "\t\tmonthly_df.to_csv(file_path, index=False)\n",
    "print('Emails Done.')"
   ]
  },
  {
   "cell_type": "code",
   "execution_count": null,
   "metadata": {},
   "outputs": [],
   "source": []
  }
 ],
 "metadata": {
  "interpreter": {
   "hash": "0c125d54415bf97f751e5832101874a2f084e84c850663dda323e1a70b27f8b7"
  },
  "kernelspec": {
   "display_name": "Python 3.8.10 64-bit ('3.8.10': pyenv)",
   "language": "python",
   "name": "python3"
  },
  "language_info": {
   "codemirror_mode": {
    "name": "ipython",
    "version": 3
   },
   "file_extension": ".py",
   "mimetype": "text/x-python",
   "name": "python",
   "nbconvert_exporter": "python",
   "pygments_lexer": "ipython3",
   "version": "3.8.10"
  },
  "orig_nbformat": 4
 },
 "nbformat": 4,
 "nbformat_minor": 2
}

{
 "cells": [
  {
   "cell_type": "code",
   "execution_count": 1,
   "metadata": {},
   "outputs": [],
   "source": [
    "import os\n",
    "#import pandas as pd \n",
    "import modin.pandas as pd # emails went to 236\n",
    "from tqdm import tqdm\n",
    "import datetime\n",
    "from p_tqdm import p_map\n",
    "from functools import partial\n",
    "import gc"
   ]
  },
  {
   "cell_type": "code",
   "execution_count": 2,
   "metadata": {},
   "outputs": [],
   "source": [
    "time_resolution = 30\n",
    "time_window = 10\n",
    "lk_path = '/mnt/data0/lkyin/'\n",
    "c_path = './data_smoothed'+str(time_resolution+time_window)+'/commits/'\n",
    "e_path = './data_smoothed'+str(time_resolution+time_window)+'/emails/'\n",
    "mix_path = './data_smoothed'+str(time_resolution+time_window)+'/mix/'"
   ]
  },
  {
   "cell_type": "code",
   "execution_count": 3,
   "metadata": {},
   "outputs": [
    {
     "name": "stdout",
     "output_type": "stream",
     "text": [
      "reading commits...\n"
     ]
    },
    {
     "name": "stderr",
     "output_type": "stream",
     "text": [
      "UserWarning: Ray execution environment not yet initialized. Initializing...\n",
      "To remove this warning, run the following python code before doing dataframe operations:\n",
      "\n",
      "    import ray\n",
      "    ray.init()\n",
      "\n"
     ]
    },
    {
     "name": "stdout",
     "output_type": "stream",
     "text": [
      "grouping by project...\n"
     ]
    }
   ],
   "source": [
    "print('reading commits...')\n",
    "df_data = pd.read_csv(lk_path+'commits_final.csv')\n",
    "print('grouping by project...')\n",
    "df = dict(tuple(df_data.groupby(df_data['project_name'])))\n",
    "#to_path = './weekly_data/commits/'\n",
    "#if not os.path.exists(to_path):\n",
    "#\tos.makedirs(to_path)\n"
   ]
  },
  {
   "cell_type": "code",
   "execution_count": 4,
   "metadata": {},
   "outputs": [
    {
     "data": {
      "text/plain": [
       "Index(['project_name', 'list_name', 'date', 'month', 'message_id',\n",
       "       'sender_name', 'sender_email', 'author_name', 'author_email',\n",
       "       'file_name', 'loc', 'ref_or_sha', 'subject', 'commit_type',\n",
       "       'author_full_name', 'is_bot', 'is_coding', 'dealised_author_full_name'],\n",
       "      dtype='object')"
      ]
     },
     "execution_count": 4,
     "metadata": {},
     "output_type": "execute_result"
    }
   ],
   "source": [
    "df_data.columns"
   ]
  },
  {
   "cell_type": "code",
   "execution_count": 5,
   "metadata": {},
   "outputs": [
    {
     "data": {
      "text/plain": [
       "dict_keys(['abdera', 'accumulo', 'ace', 'activemq', 'adffaces', 'agila', 'airavata', 'airflow', 'allura', 'alois', 'amaterasu', 'ambari', 'ant', 'any23', 'apex', 'apisix', 'ariatosca', 'aries', 'asterixdb', 'atlas', 'aurora', 'awf', 'batchee', 'beam', 'beehive', 'bigtop', 'bloodhound', 'bluesky', 'blur', 'bookkeeper', 'brooklyn', 'buildr', 'bval', 'calcite', 'carbondata', 'cassandra', 'cayenne', 'celix', 'chemistry', 'chukwa', 'clerezza', 'click', 'climate', 'cloudstack', 'cmda', 'commons', 'commonsrdf', 'composer', 'concerted', 'cordova', 'corinthia', 'couchdb', 'crunch', 'ctakes', 'curator', 'cxf', 'daffodil', 'datafu', 'datasketches', 'deltacloud', 'deltaspike', 'derby', 'devicemap', 'directmemory', 'directory', 'dolphinscheduler', 'drill', 'droids', 'druid', 'dubbo', 'eagle', 'echarts', 'edgent', 'empire', 'esme', 'etch', 'falcon', 'felix', 'fineract', 'flex', 'flink', 'flume', 'fluo', 'freemarker', 'ftpserver', 'gearpump', 'geode', 'giraph', 'gobblin', 'gora', 'gossip', 'graffito', 'griffin', 'groovy', 'guacamole', 'hama', 'harmony', 'hawq', 'hcatalog', 'hdt', 'helix', 'heraldry', 'hise', 'horn', 'htrace', 'hudi', 'ibatis', 'iceberg', 'ignite', 'impala', 'imperius', 'iota', 'iotdb', 'isis', 'ivy', 'jackrabbit', 'jclouds', 'jdo', 'jena', 'johnzon', 'joshua', 'jspwiki', 'juice', 'juneau', 'kafka', 'kalumet', 'kato', 'kitty', 'knox', 'kudu', 'kylin', 'lens', 'libcloud', 'lokahi', 'lucenenet', 'lucy', 'madlib', 'manifoldcf', 'marmotta', 'mesos', 'metamodel', 'metron', 'mnemonic', 'mod_ftp', 'mrql', 'mrunit', 'muse', 'myfaces', 'mynewt', 'myriad', 'netbeans', 'nifi', 'nmaven', 'npanday', 'nutch', 'nuvem', 'ode', 'odf', 'ofbiz', 'olingo', 'olio', 'oltu', 'omid', 'onami', 'oodt', 'oozie', 'openaz', 'openjpa', 'openmeetings', 'opennlp', 'openoffice', 'openwebbeans', 'openwhisk', 'parquet', 'pdfbox', 'phoenix', 'photark', 'pig', 'pinot', 'pirk', 'pivot', 'plc4x', 'predictionio', 'provisionr', 'pubscribe', 'pulsar', 'qpid', 'quickstep', 'ranger', 'ratis', 'rave', 'reef', 'ripple', 'river', 'rocketmq', 'roller', 'rya', 's2graph', 's4', 'samoa', 'samza', 'sanselan', 'sentry', 'servicecomb', 'servicemix', 'shardingsphere', 'shindig', 'shiro', 'singa', 'sirona', 'sis', 'skywalking', 'slider', 'sling', 'solr', 'spark', 'sqoop', 'stanbol', 'stdcxx', 'stonehenge', 'storm', 'stratos', 'streams', 'struts', 'subversion', 'superset', 'synapse', 'syncope', 'systemml', 'tajo', 'tamaya', 'tashi', 'taverna', 'tephra', 'tez', 'thrift', 'tika', 'tinkerpop', 'trafficcontrol', 'trafficserver', 'trafodion', 'triplesoup', 'tuscany', 'tvm', 'twill', 'uima', 'unomi', 'usergrid', 'vcl', 'vxquery', 'wadi', 'warble', 'wave', 'weex', 'whirr', 'wicket', 'wink', 'wookie', 'xap', 'yoko', 'zeppelin', 'zeta', 'zipkin'])"
      ]
     },
     "execution_count": 5,
     "metadata": {},
     "output_type": "execute_result"
    }
   ],
   "source": [
    "df.keys()"
   ]
  },
  {
   "cell_type": "code",
   "execution_count": 6,
   "metadata": {},
   "outputs": [],
   "source": [
    "df_data['datetime'] = df_data['date'].apply(lambda x: pd.Period(x))\n",
    "df_data['year'] = df_data['datetime'].apply(lambda x: x.year)\n",
    "#df_data['dayofyear'] = df_data['datetime'].apply(lambda x: x.dayofyear)\n",
    "#df_data['weekofyear'] = df_data['datetime'].apply(lambda x: x.weekofyear)\n",
    "df_data['week'] = df_data['datetime'].apply(lambda x: pd.Period(x, freq='W'))\n",
    "df_data['day'] = df_data['datetime'].apply(lambda x: pd.Period(x, freq='D'))"
   ]
  },
  {
   "cell_type": "code",
   "execution_count": 7,
   "metadata": {},
   "outputs": [
    {
     "data": {
      "text/html": [
       "<div>\n",
       "<style scoped>\n",
       "    .dataframe tbody tr th:only-of-type {\n",
       "        vertical-align: middle;\n",
       "    }\n",
       "\n",
       "    .dataframe tbody tr th {\n",
       "        vertical-align: top;\n",
       "    }\n",
       "\n",
       "    .dataframe thead th {\n",
       "        text-align: right;\n",
       "    }\n",
       "</style>\n",
       "<table border=\"1\" class=\"dataframe\">\n",
       "  <thead>\n",
       "    <tr style=\"text-align: right;\">\n",
       "      <th></th>\n",
       "      <th>project_name</th>\n",
       "      <th>list_name</th>\n",
       "      <th>date</th>\n",
       "      <th>month</th>\n",
       "      <th>message_id</th>\n",
       "      <th>sender_name</th>\n",
       "      <th>sender_email</th>\n",
       "      <th>author_name</th>\n",
       "      <th>author_email</th>\n",
       "      <th>file_name</th>\n",
       "      <th>...</th>\n",
       "      <th>subject</th>\n",
       "      <th>commit_type</th>\n",
       "      <th>author_full_name</th>\n",
       "      <th>is_bot</th>\n",
       "      <th>is_coding</th>\n",
       "      <th>dealised_author_full_name</th>\n",
       "      <th>datetime</th>\n",
       "      <th>year</th>\n",
       "      <th>week</th>\n",
       "      <th>day</th>\n",
       "    </tr>\n",
       "  </thead>\n",
       "  <tbody>\n",
       "    <tr>\n",
       "      <th>0</th>\n",
       "      <td>etch</td>\n",
       "      <td>commits</td>\n",
       "      <td>2009-01-20 23:25:35</td>\n",
       "      <td>4</td>\n",
       "      <td>&lt;20090120232535.BC6AC2388892@eris.apache.org&gt;</td>\n",
       "      <td>sccomer</td>\n",
       "      <td>sccomer@apache.org</td>\n",
       "      <td>sccomer</td>\n",
       "      <td>NaN</td>\n",
       "      <td>incubator/etch/trunk/binding-csharp/runtime/sr...</td>\n",
       "      <td>...</td>\n",
       "      <td>svn commit: r736169 - in /incubator/etch/trunk...</td>\n",
       "      <td>svn</td>\n",
       "      <td>robert scott comer</td>\n",
       "      <td>False</td>\n",
       "      <td>True</td>\n",
       "      <td>Robert Scott Comer</td>\n",
       "      <td>2009-01-20 23:25:35</td>\n",
       "      <td>2009</td>\n",
       "      <td>2009-01-19/2009-01-25</td>\n",
       "      <td>2009-01-20</td>\n",
       "    </tr>\n",
       "    <tr>\n",
       "      <th>1</th>\n",
       "      <td>etch</td>\n",
       "      <td>commits</td>\n",
       "      <td>2009-01-20 23:25:35</td>\n",
       "      <td>4</td>\n",
       "      <td>&lt;20090120232535.BC6AC2388892@eris.apache.org&gt;</td>\n",
       "      <td>sccomer</td>\n",
       "      <td>sccomer@apache.org</td>\n",
       "      <td>sccomer</td>\n",
       "      <td>NaN</td>\n",
       "      <td>incubator/etch/trunk/binding-java/runtime/src/...</td>\n",
       "      <td>...</td>\n",
       "      <td>svn commit: r736169 - in /incubator/etch/trunk...</td>\n",
       "      <td>svn</td>\n",
       "      <td>robert scott comer</td>\n",
       "      <td>False</td>\n",
       "      <td>True</td>\n",
       "      <td>Robert Scott Comer</td>\n",
       "      <td>2009-01-20 23:25:35</td>\n",
       "      <td>2009</td>\n",
       "      <td>2009-01-19/2009-01-25</td>\n",
       "      <td>2009-01-20</td>\n",
       "    </tr>\n",
       "    <tr>\n",
       "      <th>2</th>\n",
       "      <td>etch</td>\n",
       "      <td>commits</td>\n",
       "      <td>2009-01-22 17:43:20</td>\n",
       "      <td>4</td>\n",
       "      <td>&lt;20090122174320.717AC23888E6@eris.apache.org&gt;</td>\n",
       "      <td>sccomer</td>\n",
       "      <td>sccomer@apache.org</td>\n",
       "      <td>sccomer</td>\n",
       "      <td>NaN</td>\n",
       "      <td>incubator/etch/trunk/antsetup.bat</td>\n",
       "      <td>...</td>\n",
       "      <td>svn commit: r736725 - /incubator/etch/trunk/an...</td>\n",
       "      <td>svn</td>\n",
       "      <td>robert scott comer</td>\n",
       "      <td>False</td>\n",
       "      <td>True</td>\n",
       "      <td>Robert Scott Comer</td>\n",
       "      <td>2009-01-22 17:43:20</td>\n",
       "      <td>2009</td>\n",
       "      <td>2009-01-19/2009-01-25</td>\n",
       "      <td>2009-01-22</td>\n",
       "    </tr>\n",
       "    <tr>\n",
       "      <th>3</th>\n",
       "      <td>etch</td>\n",
       "      <td>commits</td>\n",
       "      <td>2009-01-26 17:55:13</td>\n",
       "      <td>4</td>\n",
       "      <td>&lt;20090126175513.C548823889C1@eris.apache.org&gt;</td>\n",
       "      <td>sccomer</td>\n",
       "      <td>sccomer@apache.org</td>\n",
       "      <td>sccomer</td>\n",
       "      <td>NaN</td>\n",
       "      <td>incubator/etch/trunk/binding-csharp/compiler/s...</td>\n",
       "      <td>...</td>\n",
       "      <td>svn commit: r737767 - in /incubator/etch/trunk...</td>\n",
       "      <td>svn</td>\n",
       "      <td>robert scott comer</td>\n",
       "      <td>False</td>\n",
       "      <td>True</td>\n",
       "      <td>Robert Scott Comer</td>\n",
       "      <td>2009-01-26 17:55:13</td>\n",
       "      <td>2009</td>\n",
       "      <td>2009-01-26/2009-02-01</td>\n",
       "      <td>2009-01-26</td>\n",
       "    </tr>\n",
       "    <tr>\n",
       "      <th>4</th>\n",
       "      <td>etch</td>\n",
       "      <td>commits</td>\n",
       "      <td>2009-01-26 17:55:13</td>\n",
       "      <td>4</td>\n",
       "      <td>&lt;20090126175513.C548823889C1@eris.apache.org&gt;</td>\n",
       "      <td>sccomer</td>\n",
       "      <td>sccomer@apache.org</td>\n",
       "      <td>sccomer</td>\n",
       "      <td>NaN</td>\n",
       "      <td>incubator/etch/trunk/binding-java/compiler/src...</td>\n",
       "      <td>...</td>\n",
       "      <td>svn commit: r737767 - in /incubator/etch/trunk...</td>\n",
       "      <td>svn</td>\n",
       "      <td>robert scott comer</td>\n",
       "      <td>False</td>\n",
       "      <td>True</td>\n",
       "      <td>Robert Scott Comer</td>\n",
       "      <td>2009-01-26 17:55:13</td>\n",
       "      <td>2009</td>\n",
       "      <td>2009-01-26/2009-02-01</td>\n",
       "      <td>2009-01-26</td>\n",
       "    </tr>\n",
       "    <tr>\n",
       "      <th>5</th>\n",
       "      <td>etch</td>\n",
       "      <td>commits</td>\n",
       "      <td>2009-01-26 17:55:13</td>\n",
       "      <td>4</td>\n",
       "      <td>&lt;20090126175513.C548823889C1@eris.apache.org&gt;</td>\n",
       "      <td>sccomer</td>\n",
       "      <td>sccomer@apache.org</td>\n",
       "      <td>sccomer</td>\n",
       "      <td>NaN</td>\n",
       "      <td>incubator/etch/trunk/binding-xml/compiler/src/...</td>\n",
       "      <td>...</td>\n",
       "      <td>svn commit: r737767 - in /incubator/etch/trunk...</td>\n",
       "      <td>svn</td>\n",
       "      <td>robert scott comer</td>\n",
       "      <td>False</td>\n",
       "      <td>True</td>\n",
       "      <td>Robert Scott Comer</td>\n",
       "      <td>2009-01-26 17:55:13</td>\n",
       "      <td>2009</td>\n",
       "      <td>2009-01-26/2009-02-01</td>\n",
       "      <td>2009-01-26</td>\n",
       "    </tr>\n",
       "    <tr>\n",
       "      <th>6</th>\n",
       "      <td>etch</td>\n",
       "      <td>commits</td>\n",
       "      <td>2009-01-26 17:55:13</td>\n",
       "      <td>4</td>\n",
       "      <td>&lt;20090126175513.C548823889C1@eris.apache.org&gt;</td>\n",
       "      <td>sccomer</td>\n",
       "      <td>sccomer@apache.org</td>\n",
       "      <td>sccomer</td>\n",
       "      <td>NaN</td>\n",
       "      <td>incubator/etch/trunk/compiler/src/main/java/et...</td>\n",
       "      <td>...</td>\n",
       "      <td>svn commit: r737767 - in /incubator/etch/trunk...</td>\n",
       "      <td>svn</td>\n",
       "      <td>robert scott comer</td>\n",
       "      <td>False</td>\n",
       "      <td>True</td>\n",
       "      <td>Robert Scott Comer</td>\n",
       "      <td>2009-01-26 17:55:13</td>\n",
       "      <td>2009</td>\n",
       "      <td>2009-01-26/2009-02-01</td>\n",
       "      <td>2009-01-26</td>\n",
       "    </tr>\n",
       "    <tr>\n",
       "      <th>7</th>\n",
       "      <td>etch</td>\n",
       "      <td>commits</td>\n",
       "      <td>2009-01-26 17:55:13</td>\n",
       "      <td>4</td>\n",
       "      <td>&lt;20090126175513.C548823889C1@eris.apache.org&gt;</td>\n",
       "      <td>sccomer</td>\n",
       "      <td>sccomer@apache.org</td>\n",
       "      <td>sccomer</td>\n",
       "      <td>NaN</td>\n",
       "      <td>incubator/etch/trunk/compiler/src/main/java/et...</td>\n",
       "      <td>...</td>\n",
       "      <td>svn commit: r737767 - in /incubator/etch/trunk...</td>\n",
       "      <td>svn</td>\n",
       "      <td>robert scott comer</td>\n",
       "      <td>False</td>\n",
       "      <td>True</td>\n",
       "      <td>Robert Scott Comer</td>\n",
       "      <td>2009-01-26 17:55:13</td>\n",
       "      <td>2009</td>\n",
       "      <td>2009-01-26/2009-02-01</td>\n",
       "      <td>2009-01-26</td>\n",
       "    </tr>\n",
       "    <tr>\n",
       "      <th>8</th>\n",
       "      <td>etch</td>\n",
       "      <td>commits</td>\n",
       "      <td>2009-01-26 17:59:25</td>\n",
       "      <td>4</td>\n",
       "      <td>&lt;20090126175925.3EE0323888E6@eris.apache.org&gt;</td>\n",
       "      <td>sccomer</td>\n",
       "      <td>sccomer@apache.org</td>\n",
       "      <td>sccomer</td>\n",
       "      <td>NaN</td>\n",
       "      <td>incubator/etch/trunk/installers/etch-maven-ins...</td>\n",
       "      <td>...</td>\n",
       "      <td>svn commit: r737770 - /incubator/etch/trunk/in...</td>\n",
       "      <td>svn</td>\n",
       "      <td>robert scott comer</td>\n",
       "      <td>False</td>\n",
       "      <td>True</td>\n",
       "      <td>Robert Scott Comer</td>\n",
       "      <td>2009-01-26 17:59:25</td>\n",
       "      <td>2009</td>\n",
       "      <td>2009-01-26/2009-02-01</td>\n",
       "      <td>2009-01-26</td>\n",
       "    </tr>\n",
       "    <tr>\n",
       "      <th>9</th>\n",
       "      <td>etch</td>\n",
       "      <td>commits</td>\n",
       "      <td>2009-01-27 17:30:44</td>\n",
       "      <td>4</td>\n",
       "      <td>&lt;20090127173044.7C8FD23889B7@eris.apache.org&gt;</td>\n",
       "      <td>sccomer</td>\n",
       "      <td>sccomer@apache.org</td>\n",
       "      <td>sccomer</td>\n",
       "      <td>NaN</td>\n",
       "      <td>incubator/etch/trunk/binding-csharp/runtime/sr...</td>\n",
       "      <td>...</td>\n",
       "      <td>svn commit: r738160 - in /incubator/etch/trunk...</td>\n",
       "      <td>svn</td>\n",
       "      <td>robert scott comer</td>\n",
       "      <td>False</td>\n",
       "      <td>True</td>\n",
       "      <td>Robert Scott Comer</td>\n",
       "      <td>2009-01-27 17:30:44</td>\n",
       "      <td>2009</td>\n",
       "      <td>2009-01-26/2009-02-01</td>\n",
       "      <td>2009-01-27</td>\n",
       "    </tr>\n",
       "  </tbody>\n",
       "</table>\n",
       "<p>10 rows x 22 columns</p>\n",
       "</div>"
      ],
      "text/plain": [
       "  project_name list_name                 date  month  \\\n",
       "0         etch   commits  2009-01-20 23:25:35      4   \n",
       "1         etch   commits  2009-01-20 23:25:35      4   \n",
       "2         etch   commits  2009-01-22 17:43:20      4   \n",
       "3         etch   commits  2009-01-26 17:55:13      4   \n",
       "4         etch   commits  2009-01-26 17:55:13      4   \n",
       "5         etch   commits  2009-01-26 17:55:13      4   \n",
       "6         etch   commits  2009-01-26 17:55:13      4   \n",
       "7         etch   commits  2009-01-26 17:55:13      4   \n",
       "8         etch   commits  2009-01-26 17:59:25      4   \n",
       "9         etch   commits  2009-01-27 17:30:44      4   \n",
       "\n",
       "                                      message_id sender_name  \\\n",
       "0  <20090120232535.BC6AC2388892@eris.apache.org>     sccomer   \n",
       "1  <20090120232535.BC6AC2388892@eris.apache.org>     sccomer   \n",
       "2  <20090122174320.717AC23888E6@eris.apache.org>     sccomer   \n",
       "3  <20090126175513.C548823889C1@eris.apache.org>     sccomer   \n",
       "4  <20090126175513.C548823889C1@eris.apache.org>     sccomer   \n",
       "5  <20090126175513.C548823889C1@eris.apache.org>     sccomer   \n",
       "6  <20090126175513.C548823889C1@eris.apache.org>     sccomer   \n",
       "7  <20090126175513.C548823889C1@eris.apache.org>     sccomer   \n",
       "8  <20090126175925.3EE0323888E6@eris.apache.org>     sccomer   \n",
       "9  <20090127173044.7C8FD23889B7@eris.apache.org>     sccomer   \n",
       "\n",
       "         sender_email author_name author_email  \\\n",
       "0  sccomer@apache.org     sccomer          NaN   \n",
       "1  sccomer@apache.org     sccomer          NaN   \n",
       "2  sccomer@apache.org     sccomer          NaN   \n",
       "3  sccomer@apache.org     sccomer          NaN   \n",
       "4  sccomer@apache.org     sccomer          NaN   \n",
       "5  sccomer@apache.org     sccomer          NaN   \n",
       "6  sccomer@apache.org     sccomer          NaN   \n",
       "7  sccomer@apache.org     sccomer          NaN   \n",
       "8  sccomer@apache.org     sccomer          NaN   \n",
       "9  sccomer@apache.org     sccomer          NaN   \n",
       "\n",
       "                                           file_name  ...  \\\n",
       "0  incubator/etch/trunk/binding-csharp/runtime/sr...  ...   \n",
       "1  incubator/etch/trunk/binding-java/runtime/src/...  ...   \n",
       "2                  incubator/etch/trunk/antsetup.bat  ...   \n",
       "3  incubator/etch/trunk/binding-csharp/compiler/s...  ...   \n",
       "4  incubator/etch/trunk/binding-java/compiler/src...  ...   \n",
       "5  incubator/etch/trunk/binding-xml/compiler/src/...  ...   \n",
       "6  incubator/etch/trunk/compiler/src/main/java/et...  ...   \n",
       "7  incubator/etch/trunk/compiler/src/main/java/et...  ...   \n",
       "8  incubator/etch/trunk/installers/etch-maven-ins...  ...   \n",
       "9  incubator/etch/trunk/binding-csharp/runtime/sr...  ...   \n",
       "\n",
       "                                             subject commit_type  \\\n",
       "0  svn commit: r736169 - in /incubator/etch/trunk...         svn   \n",
       "1  svn commit: r736169 - in /incubator/etch/trunk...         svn   \n",
       "2  svn commit: r736725 - /incubator/etch/trunk/an...         svn   \n",
       "3  svn commit: r737767 - in /incubator/etch/trunk...         svn   \n",
       "4  svn commit: r737767 - in /incubator/etch/trunk...         svn   \n",
       "5  svn commit: r737767 - in /incubator/etch/trunk...         svn   \n",
       "6  svn commit: r737767 - in /incubator/etch/trunk...         svn   \n",
       "7  svn commit: r737767 - in /incubator/etch/trunk...         svn   \n",
       "8  svn commit: r737770 - /incubator/etch/trunk/in...         svn   \n",
       "9  svn commit: r738160 - in /incubator/etch/trunk...         svn   \n",
       "\n",
       "     author_full_name is_bot is_coding  dealised_author_full_name  \\\n",
       "0  robert scott comer  False      True         Robert Scott Comer   \n",
       "1  robert scott comer  False      True         Robert Scott Comer   \n",
       "2  robert scott comer  False      True         Robert Scott Comer   \n",
       "3  robert scott comer  False      True         Robert Scott Comer   \n",
       "4  robert scott comer  False      True         Robert Scott Comer   \n",
       "5  robert scott comer  False      True         Robert Scott Comer   \n",
       "6  robert scott comer  False      True         Robert Scott Comer   \n",
       "7  robert scott comer  False      True         Robert Scott Comer   \n",
       "8  robert scott comer  False      True         Robert Scott Comer   \n",
       "9  robert scott comer  False      True         Robert Scott Comer   \n",
       "\n",
       "              datetime  year                   week         day  \n",
       "0  2009-01-20 23:25:35  2009  2009-01-19/2009-01-25  2009-01-20  \n",
       "1  2009-01-20 23:25:35  2009  2009-01-19/2009-01-25  2009-01-20  \n",
       "2  2009-01-22 17:43:20  2009  2009-01-19/2009-01-25  2009-01-22  \n",
       "3  2009-01-26 17:55:13  2009  2009-01-26/2009-02-01  2009-01-26  \n",
       "4  2009-01-26 17:55:13  2009  2009-01-26/2009-02-01  2009-01-26  \n",
       "5  2009-01-26 17:55:13  2009  2009-01-26/2009-02-01  2009-01-26  \n",
       "6  2009-01-26 17:55:13  2009  2009-01-26/2009-02-01  2009-01-26  \n",
       "7  2009-01-26 17:55:13  2009  2009-01-26/2009-02-01  2009-01-26  \n",
       "8  2009-01-26 17:59:25  2009  2009-01-26/2009-02-01  2009-01-26  \n",
       "9  2009-01-27 17:30:44  2009  2009-01-26/2009-02-01  2009-01-27  \n",
       "\n",
       "[10 rows x 22 columns]"
      ]
     },
     "execution_count": 7,
     "metadata": {},
     "output_type": "execute_result"
    }
   ],
   "source": [
    "df_data.head(10)"
   ]
  },
  {
   "cell_type": "code",
   "execution_count": 8,
   "metadata": {},
   "outputs": [
    {
     "data": {
      "text/plain": [
       "count        8604294\n",
       "unique          5963\n",
       "top       2015-01-27\n",
       "freq          351139\n",
       "Name: day, dtype: object"
      ]
     },
     "execution_count": 8,
     "metadata": {},
     "output_type": "execute_result"
    }
   ],
   "source": [
    "df_data['day'].describe()"
   ]
  },
  {
   "cell_type": "code",
   "execution_count": 9,
   "metadata": {},
   "outputs": [
    {
     "data": {
      "text/plain": [
       "<7 * Days>"
      ]
     },
     "execution_count": 9,
     "metadata": {},
     "output_type": "execute_result"
    }
   ],
   "source": [
    "df_data['day'][10]-df_data['day'][0]"
   ]
  },
  {
   "cell_type": "code",
   "execution_count": 16,
   "metadata": {},
   "outputs": [
    {
     "data": {
      "text/plain": [
       "False"
      ]
     },
     "execution_count": 16,
     "metadata": {},
     "output_type": "execute_result"
    }
   ],
   "source": [
    "df_data['day'][10]-df_data['day'][0] == 7* pd.Timedelta(\"1 day\")"
   ]
  },
  {
   "cell_type": "code",
   "execution_count": 3,
   "metadata": {},
   "outputs": [
    {
     "name": "stdout",
     "output_type": "stream",
     "text": [
      "reading commits...\n"
     ]
    },
    {
     "name": "stderr",
     "output_type": "stream",
     "text": [
      "UserWarning: Ray execution environment not yet initialized. Initializing...\n",
      "To remove this warning, run the following python code before doing dataframe operations:\n",
      "\n",
      "    import ray\n",
      "    ray.init()\n",
      "\n"
     ]
    },
    {
     "name": "stdout",
     "output_type": "stream",
     "text": [
      "project_name                    object\n",
      "list_name                       object\n",
      "date                            object\n",
      "month                            int64\n",
      "message_id                      object\n",
      "sender_name                     object\n",
      "sender_email                    object\n",
      "author_name                     object\n",
      "author_email                    object\n",
      "file_name                       object\n",
      "loc                            float64\n",
      "ref_or_sha                      object\n",
      "subject                         object\n",
      "commit_type                     object\n",
      "author_full_name                object\n",
      "is_bot                            bool\n",
      "is_coding                         bool\n",
      "dealised_author_full_name       object\n",
      "day                          period[D]\n",
      "dtype: object\n"
     ]
    }
   ],
   "source": [
    "print('reading commits...')\n",
    "df_data = pd.read_csv(lk_path+'commits_final.csv')\n",
    "df_data = df_data.loc[df_data.date.str.len()==19]\n",
    "df_data['day'] = df_data['date'].apply(lambda x: pd.Period(x, freq='D'))\n",
    "df_data.to_csv(\"./temp_data.csv\", index=False)\n",
    "print(df_data.dtypes)"
   ]
  },
  {
   "cell_type": "code",
   "execution_count": 3,
   "metadata": {},
   "outputs": [
    {
     "name": "stderr",
     "output_type": "stream",
     "text": [
      "DtypeWarning: Columns (8,11) have mixed types.Specify dtype option on import or set low_memory=False.\n"
     ]
    },
    {
     "name": "stdout",
     "output_type": "stream",
     "text": [
      "grouping by project...\n"
     ]
    }
   ],
   "source": [
    "# Use normal pandas here instead\n",
    "import pandas as pd\n",
    "df_data = pd.read_csv(\"./temp_data.csv\")\n",
    "#df_data['day'] = df_data['day'].apply(lambda x: pd.Period(x))\n",
    "#df_data['day'] = df_data['day'].astype(str)\n",
    "print('grouping by project...')\n",
    "df = dict(tuple(df_data.groupby(df_data['project_name'])))\n",
    "to_path = c_path\n",
    "if not os.path.exists(to_path):\n",
    "\tos.makedirs(to_path)"
   ]
  },
  {
   "cell_type": "code",
   "execution_count": 4,
   "metadata": {},
   "outputs": [],
   "source": [
    "def period_save(df, project):\n",
    "\tdaily_df_dict = dict(tuple(df[project].groupby(df[project]['day'])))\n",
    "\tdayint = 0\n",
    "\tfor day0, value in daily_df_dict.items():\n",
    "\t\tday0 = pd.Period(day0)\n",
    "\t\t#print(day0)\n",
    "\t\tbreak\n",
    "\tperiodly_df = pd.DataFrame()\n",
    "\tperiodnum = 0\n",
    "\n",
    "\tfor today in daily_df_dict:\t\t\n",
    "\t\tdaily_df = daily_df_dict[today]\n",
    "\t\tdaily_df = daily_df[daily_df['dealised_author_full_name'].notna()]\n",
    "\t\tif daily_df.empty: continue\n",
    "\t\tdaily_df['day'] = daily_df['day'].apply(lambda x: pd.Period(x))\n",
    "\t\twhile pd.Period(today) > (day0 + (dayint*pd.Timedelta(\"1 day\"))):\n",
    "\t\t\tdayint+=1\n",
    "\t\t\n",
    "\t\tif dayint > time_resolution+time_window:\n",
    "\t\t\tperiodnum+=1\n",
    "\t\t\tperiodstr = str(periodnum).zfill(3)\n",
    "\t\t\tfile_path = to_path + '{}__{}.csv'.format(project, periodstr)\n",
    "\t\t\t#print(\"Saving: \"+ file_path)\n",
    "\t\t\tperiodly_df.to_csv(file_path, index=False)\n",
    "\t\t\tperiodly_df = pd.DataFrame()\n",
    "\t\t\tday0+= (time_resolution+time_window)*pd.Timedelta(\"1 day\")\n",
    "\t\t\tdayint-= (time_resolution+time_window)\n",
    "\n",
    "\t\tperiodly_df = pd.concat([periodly_df, daily_df], ignore_index=True)\n",
    "\t\n",
    "\tgc.collect()\n",
    "\n"
   ]
  },
  {
   "cell_type": "code",
   "execution_count": 5,
   "metadata": {},
   "outputs": [
    {
     "name": "stdout",
     "output_type": "stream",
     "text": [
      "grouping by period...\n"
     ]
    },
    {
     "name": "stderr",
     "output_type": "stream",
     "text": [
      "100%|██████████| 263/263 [21:57<00:00,  5.01s/it]   "
     ]
    },
    {
     "name": "stdout",
     "output_type": "stream",
     "text": [
      "Commits Done.\n"
     ]
    },
    {
     "name": "stderr",
     "output_type": "stream",
     "text": [
      "\n"
     ]
    }
   ],
   "source": [
    "print('grouping by period...')\n",
    "\n",
    "for project in tqdm(df):\n",
    "\tperiod_save(df, project)\n",
    "print('Commits Done.')"
   ]
  },
  {
   "cell_type": "code",
   "execution_count": 6,
   "metadata": {},
   "outputs": [
    {
     "name": "stderr",
     "output_type": "stream",
     "text": [
      "UserWarning: Ray execution environment not yet initialized. Initializing...\n",
      "To remove this warning, run the following python code before doing dataframe operations:\n",
      "\n",
      "    import ray\n",
      "    ray.init()\n",
      "\n"
     ]
    },
    {
     "name": "stdout",
     "output_type": "stream",
     "text": [
      "reading emails...\n"
     ]
    },
    {
     "name": "stderr",
     "output_type": "stream",
     "text": [
      "UserWarning: `read_*` implementation has mismatches with pandas:\n",
      "Data types of partitions are different! Please refer to the troubleshooting section of the Modin documentation to fix this issue.\n"
     ]
    },
    {
     "name": "stdout",
     "output_type": "stream",
     "text": [
      "project_name                    object\n",
      "list_name                       object\n",
      "date                            object\n",
      "month                          float64\n",
      "message_id                      object\n",
      "sender_name                     object\n",
      "references                      object\n",
      "sender_email                    object\n",
      "in_reply_to                     object\n",
      "cc_list                         object\n",
      "receiver_email                  object\n",
      "subject                         object\n",
      "body                            object\n",
      "from_commit                     object\n",
      "author_full_name                object\n",
      "is_bot                            bool\n",
      "dealised_author_full_name       object\n",
      "day                          period[D]\n",
      "dtype: object\n"
     ]
    }
   ],
   "source": [
    "import modin.pandas as pd\n",
    "print('reading emails...')\n",
    "df_data = pd.read_csv(lk_path+'emails_final.csv')\n",
    "df_data = df_data.loc[df_data.date.str.len()==19]\n",
    "df_data['day'] = df_data['date'].apply(lambda x: pd.Period(x, freq='D'))\n",
    "df_data.to_csv(\"./temp_data.csv\", index=False)\n",
    "print(df_data.dtypes)\n"
   ]
  },
  {
   "cell_type": "code",
   "execution_count": 7,
   "metadata": {},
   "outputs": [
    {
     "name": "stderr",
     "output_type": "stream",
     "text": [
      "DtypeWarning: Columns (6,8,9,12,13) have mixed types.Specify dtype option on import or set low_memory=False.\n"
     ]
    },
    {
     "name": "stdout",
     "output_type": "stream",
     "text": [
      "grouping by project...\n"
     ]
    },
    {
     "data": {
      "text/plain": [
       "6"
      ]
     },
     "execution_count": 7,
     "metadata": {},
     "output_type": "execute_result"
    }
   ],
   "source": [
    "import pandas as pd\n",
    "df_data = pd.read_csv(\"./temp_data.csv\")\n",
    "print('grouping by project...')\n",
    "df = dict(tuple(df_data.groupby(df_data['project_name'])))\n",
    "to_path = e_path\n",
    "if not os.path.exists(to_path):\n",
    "\tos.makedirs(to_path)\n",
    "gc.collect()"
   ]
  },
  {
   "cell_type": "code",
   "execution_count": 8,
   "metadata": {},
   "outputs": [
    {
     "name": "stdout",
     "output_type": "stream",
     "text": [
      "grouping by period...\n"
     ]
    },
    {
     "name": "stderr",
     "output_type": "stream",
     "text": [
      "100%|██████████| 274/274 [11:41<00:00,  2.56s/it]"
     ]
    },
    {
     "name": "stdout",
     "output_type": "stream",
     "text": [
      "Commits Done.\n"
     ]
    },
    {
     "name": "stderr",
     "output_type": "stream",
     "text": [
      "\n"
     ]
    }
   ],
   "source": [
    "print('grouping by period...')\n",
    "\n",
    "for project in tqdm(df):\n",
    "\tperiod_save(df, project)\n",
    "print('Commits Done.')"
   ]
  },
  {
   "cell_type": "code",
   "execution_count": 9,
   "metadata": {},
   "outputs": [
    {
     "data": {
      "text/plain": [
       "0"
      ]
     },
     "execution_count": 9,
     "metadata": {},
     "output_type": "execute_result"
    }
   ],
   "source": [
    "gc.collect()"
   ]
  },
  {
   "cell_type": "code",
   "execution_count": null,
   "metadata": {},
   "outputs": [],
   "source": []
  }
 ],
 "metadata": {
  "kernelspec": {
   "display_name": "Python 3.8.10 64-bit ('3.8.10')",
   "language": "python",
   "name": "python3"
  },
  "language_info": {
   "codemirror_mode": {
    "name": "ipython",
    "version": 3
   },
   "file_extension": ".py",
   "mimetype": "text/x-python",
   "name": "python",
   "nbconvert_exporter": "python",
   "pygments_lexer": "ipython3",
   "version": "3.8.10"
  },
  "orig_nbformat": 4,
  "vscode": {
   "interpreter": {
    "hash": "0c125d54415bf97f751e5832101874a2f084e84c850663dda323e1a70b27f8b7"
   }
  }
 },
 "nbformat": 4,
 "nbformat_minor": 2
}

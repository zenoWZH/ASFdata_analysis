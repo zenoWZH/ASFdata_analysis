{
 "cells": [
  {
   "cell_type": "code",
   "execution_count": 1,
   "metadata": {},
   "outputs": [],
   "source": [
    "import os\n",
    "#import pandas as pd \n",
    "import modin.pandas as pd # emails went to 236\n",
    "from tqdm import tqdm\n",
    "import datetime\n",
    "from p_tqdm import p_map\n",
    "from functools import partial\n",
    "import gc"
   ]
  },
  {
   "cell_type": "code",
   "execution_count": 2,
   "metadata": {},
   "outputs": [],
   "source": [
    "time_resolution = 21\n",
    "time_window = 3\n",
    "lk_path = '/mnt/data0/lkyin/'\n",
    "c_path = './data_smoothed'+str(time_resolution+time_window)+'/commits/'\n",
    "e_path = './data_smoothed'+str(time_resolution+time_window)+'/emails/'\n",
    "mix_path = './data_smoothed'+str(time_resolution+time_window)+'/mix/'"
   ]
  },
  {
   "cell_type": "code",
   "execution_count": 3,
   "metadata": {},
   "outputs": [
    {
     "name": "stdout",
     "output_type": "stream",
     "text": [
      "reading commits...\n"
     ]
    },
    {
     "name": "stderr",
     "output_type": "stream",
     "text": [
      "UserWarning: Ray execution environment not yet initialized. Initializing...\n",
      "To remove this warning, run the following python code before doing dataframe operations:\n",
      "\n",
      "    import ray\n",
      "    ray.init()\n",
      "\n",
      "UserWarning: The size of /dev/shm is too small (24123731968 bytes). The required size at least half of RAM (33617885184 bytes). Please, delete files in /dev/shm or increase size of /dev/shm with --shm-size in Docker. Also, you can set the required memory size for each Ray worker in bytes to MODIN_MEMORY environment variable.\n"
     ]
    },
    {
     "name": "stdout",
     "output_type": "stream",
     "text": [
      "project_name                    object\n",
      "list_name                       object\n",
      "date                            object\n",
      "month                            int64\n",
      "message_id                      object\n",
      "sender_name                     object\n",
      "sender_email                    object\n",
      "author_name                     object\n",
      "author_email                    object\n",
      "file_name                       object\n",
      "loc                            float64\n",
      "ref_or_sha                      object\n",
      "subject                         object\n",
      "commit_type                     object\n",
      "author_full_name                object\n",
      "is_bot                            bool\n",
      "is_coding                         bool\n",
      "dealised_author_full_name       object\n",
      "day                          period[D]\n",
      "dtype: object\n"
     ]
    }
   ],
   "source": [
    "print('reading commits...')\n",
    "df_data = pd.read_csv(lk_path+'commits_final.csv')\n",
    "df_data = df_data.loc[df_data.date.str.len()==19]\n",
    "df_data['day'] = df_data['date'].apply(lambda x: pd.Period(x, freq='D'))\n",
    "df_data.to_csv(\"./temp_data.csv\", index=False)\n",
    "print(df_data.dtypes)"
   ]
  },
  {
   "cell_type": "code",
   "execution_count": 4,
   "metadata": {},
   "outputs": [
    {
     "name": "stderr",
     "output_type": "stream",
     "text": [
      "DtypeWarning: Columns (8,11) have mixed types.Specify dtype option on import or set low_memory=False.\n"
     ]
    },
    {
     "name": "stdout",
     "output_type": "stream",
     "text": [
      "grouping by project...\n"
     ]
    }
   ],
   "source": [
    "# Use normal pandas here instead\n",
    "import pandas as pd\n",
    "df_data = pd.read_csv(\"./temp_data.csv\")\n",
    "#df_data['day'] = df_data['day'].apply(lambda x: pd.Period(x))\n",
    "#df_data['day'] = df_data['day'].astype(str)\n",
    "print('grouping by project...')\n",
    "df = dict(tuple(df_data.groupby(df_data['project_name'])))\n",
    "to_path = c_path\n",
    "if not os.path.exists(to_path):\n",
    "\tos.makedirs(to_path)"
   ]
  },
  {
   "cell_type": "code",
   "execution_count": 5,
   "metadata": {},
   "outputs": [],
   "source": [
    "def period_save(df, project):\n",
    "\tdaily_df_dict = dict(tuple(df[project].groupby(df[project]['day'])))\n",
    "\tdayint = 0\n",
    "\tfor day0, value in daily_df_dict.items():\n",
    "\t\tday0 = pd.Period(day0)\n",
    "\t\t#print(day0)\n",
    "\t\tbreak\n",
    "\tperiodly_df = pd.DataFrame()\n",
    "\tperiodnum = 0\n",
    "\n",
    "\tfor today in daily_df_dict:\t\t\n",
    "\t\tdaily_df = daily_df_dict[today]\n",
    "\t\tdaily_df = daily_df[daily_df['dealised_author_full_name'].notna()]\n",
    "\t\tif daily_df.empty: continue\n",
    "\t\tdaily_df['day'] = daily_df['day'].apply(lambda x: pd.Period(x))\n",
    "\t\twhile pd.Period(today) > (day0 + (dayint*pd.Timedelta(\"1 day\"))):\n",
    "\t\t\tdayint+=1\n",
    "\t\t\n",
    "\t\tif dayint > time_resolution+time_window:\n",
    "\t\t\tperiodnum+=1\n",
    "\t\t\tperiodstr = str(periodnum).zfill(3)\n",
    "\t\t\tfile_path = to_path + '{}__{}.csv'.format(project, periodstr)\n",
    "\t\t\t#print(\"Saving: \"+ file_path)\n",
    "\t\t\tperiodly_df.to_csv(file_path, index=False)\n",
    "\t\t\tperiodly_df = pd.DataFrame()\n",
    "\t\t\tday0+= (time_resolution+time_window)*pd.Timedelta(\"1 day\")\n",
    "\t\t\tdayint-= (time_resolution+time_window)\n",
    "\n",
    "\t\tperiodly_df = pd.concat([periodly_df, daily_df], ignore_index=True)\n",
    "\t\n",
    "\tgc.collect()\n",
    "\n"
   ]
  },
  {
   "cell_type": "code",
   "execution_count": 6,
   "metadata": {},
   "outputs": [
    {
     "name": "stdout",
     "output_type": "stream",
     "text": [
      "grouping by period...\n"
     ]
    },
    {
     "name": "stderr",
     "output_type": "stream",
     "text": [
      "100%|██████████| 263/263 [24:51<00:00,  5.67s/it]   "
     ]
    },
    {
     "name": "stdout",
     "output_type": "stream",
     "text": [
      "Commits Done.\n"
     ]
    },
    {
     "name": "stderr",
     "output_type": "stream",
     "text": [
      "\n"
     ]
    }
   ],
   "source": [
    "print('grouping by period...')\n",
    "\n",
    "for project in tqdm(df):\n",
    "\tperiod_save(df, project)\n",
    "print('Commits Done.')"
   ]
  },
  {
   "cell_type": "code",
   "execution_count": 7,
   "metadata": {},
   "outputs": [
    {
     "name": "stdout",
     "output_type": "stream",
     "text": [
      "reading emails...\n"
     ]
    },
    {
     "name": "stderr",
     "output_type": "stream",
     "text": [
      "UserWarning: `read_*` implementation has mismatches with pandas:\n",
      "Data types of partitions are different! Please refer to the troubleshooting section of the Modin documentation to fix this issue.\n"
     ]
    },
    {
     "name": "stdout",
     "output_type": "stream",
     "text": [
      "project_name                    object\n",
      "list_name                       object\n",
      "date                            object\n",
      "month                          float64\n",
      "message_id                      object\n",
      "sender_name                     object\n",
      "references                      object\n",
      "sender_email                    object\n",
      "in_reply_to                     object\n",
      "cc_list                         object\n",
      "receiver_email                  object\n",
      "subject                         object\n",
      "body                            object\n",
      "from_commit                     object\n",
      "author_full_name                object\n",
      "is_bot                            bool\n",
      "dealised_author_full_name       object\n",
      "day                          period[D]\n",
      "dtype: object\n"
     ]
    }
   ],
   "source": [
    "import modin.pandas as pd\n",
    "print('reading emails...')\n",
    "df_data = pd.read_csv(lk_path+'emails_final.csv')\n",
    "df_data = df_data.loc[df_data.date.str.len()==19]\n",
    "df_data['day'] = df_data['date'].apply(lambda x: pd.Period(x, freq='D'))\n",
    "df_data.to_csv(\"./temp_data.csv\", index=False)\n",
    "print(df_data.dtypes)\n"
   ]
  },
  {
   "cell_type": "code",
   "execution_count": 3,
   "metadata": {},
   "outputs": [
    {
     "name": "stderr",
     "output_type": "stream",
     "text": [
      "DtypeWarning: Columns (6,8,9,12,13) have mixed types.Specify dtype option on import or set low_memory=False.\n"
     ]
    },
    {
     "name": "stdout",
     "output_type": "stream",
     "text": [
      "grouping by project...\n"
     ]
    },
    {
     "data": {
      "text/plain": [
       "0"
      ]
     },
     "execution_count": 3,
     "metadata": {},
     "output_type": "execute_result"
    }
   ],
   "source": [
    "import pandas as pd\n",
    "df_data = pd.read_csv(\"./temp_data.csv\")\n",
    "print('grouping by project...')\n",
    "df = dict(tuple(df_data.groupby(df_data['project_name'])))\n",
    "to_path = e_path\n",
    "if not os.path.exists(to_path):\n",
    "\tos.makedirs(to_path)\n",
    "gc.collect()"
   ]
  },
  {
   "cell_type": "code",
   "execution_count": 6,
   "metadata": {},
   "outputs": [
    {
     "name": "stdout",
     "output_type": "stream",
     "text": [
      "grouping by period...\n"
     ]
    },
    {
     "name": "stderr",
     "output_type": "stream",
     "text": [
      "100%|██████████| 274/274 [09:14<00:00,  2.02s/it]"
     ]
    },
    {
     "name": "stdout",
     "output_type": "stream",
     "text": [
      "Emails Done.\n"
     ]
    },
    {
     "name": "stderr",
     "output_type": "stream",
     "text": [
      "\n"
     ]
    }
   ],
   "source": [
    "print('grouping by period...')\n",
    "\n",
    "for project in tqdm(df):\n",
    "\tperiod_save(df, project)\n",
    "print('Emails Done.')"
   ]
  },
  {
   "cell_type": "code",
   "execution_count": null,
   "metadata": {},
   "outputs": [
    {
     "data": {
      "text/plain": [
       "0"
      ]
     },
     "execution_count": 10,
     "metadata": {},
     "output_type": "execute_result"
    }
   ],
   "source": [
    "gc.collect()"
   ]
  },
  {
   "cell_type": "code",
   "execution_count": null,
   "metadata": {},
   "outputs": [],
   "source": []
  }
 ],
 "metadata": {
  "kernelspec": {
   "display_name": "Python 3.8.10 64-bit ('3.8.10')",
   "language": "python",
   "name": "python3"
  },
  "language_info": {
   "codemirror_mode": {
    "name": "ipython",
    "version": 3
   },
   "file_extension": ".py",
   "mimetype": "text/x-python",
   "name": "python",
   "nbconvert_exporter": "python",
   "pygments_lexer": "ipython3",
   "version": "3.8.10"
  },
  "orig_nbformat": 4,
  "vscode": {
   "interpreter": {
    "hash": "0c125d54415bf97f751e5832101874a2f084e84c850663dda323e1a70b27f8b7"
   }
  }
 },
 "nbformat": 4,
 "nbformat_minor": 2
}
